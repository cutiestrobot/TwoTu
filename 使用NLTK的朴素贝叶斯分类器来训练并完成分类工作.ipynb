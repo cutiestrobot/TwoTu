{
 "cells": [
  {
   "cell_type": "markdown",
   "metadata": {},
   "source": [
    "sourse:\n",
    "http://blog.csdn.net/cnweike/article/details/47398405"
   ]
  },
  {
   "cell_type": "code",
   "execution_count": 56,
   "metadata": {},
   "outputs": [
    {
     "name": "stdout",
     "output_type": "stream",
     "text": [
      "49\n",
      "[('a', 'female'), ('w', 'female'), ('a', 'female'), ('a', 'female'), ('a', 'female'), ('r', 'male'), ('m', 'male'), ('a', 'female'), ('z', 'female'), ('w', 'male')]\n"
     ]
    }
   ],
   "source": [
    "import nltk\n",
    "import random\n",
    "\n",
    "data = (\n",
    "    [(name,'male') for name in 'e w w m r r r t e r t e w e r t a e'.split() ]\n",
    "    +\n",
    "    [(name,'female') for name in 'a s a a a a a a a a a a a a a a w w  z d c f v s s a a a a s d'.split()]\n",
    ")\n",
    "random.shuffle(data)\n",
    "print(len(data))\n",
    "print(data[0:10])"
   ]
  },
  {
   "cell_type": "code",
   "execution_count": 57,
   "metadata": {},
   "outputs": [
    {
     "name": "stdout",
     "output_type": "stream",
     "text": [
      "[({'name': 'a'}, 'female'), ({'name': 'w'}, 'female'), ({'name': 'a'}, 'female'), ({'name': 'a'}, 'female'), ({'name': 'a'}, 'female'), ({'name': 'r'}, 'male'), ({'name': 'm'}, 'male'), ({'name': 'a'}, 'female'), ({'name': 'z'}, 'female'), ({'name': 'w'}, 'male'), ({'name': 'a'}, 'female'), ({'name': 'a'}, 'male'), ({'name': 'd'}, 'female'), ({'name': 'a'}, 'female'), ({'name': 'w'}, 'male'), ({'name': 't'}, 'male'), ({'name': 's'}, 'female'), ({'name': 'w'}, 'male'), ({'name': 'a'}, 'female'), ({'name': 't'}, 'male'), ({'name': 'a'}, 'female'), ({'name': 'v'}, 'female'), ({'name': 'a'}, 'female'), ({'name': 'a'}, 'female'), ({'name': 's'}, 'female'), ({'name': 'e'}, 'male'), ({'name': 'c'}, 'female'), ({'name': 'd'}, 'female'), ({'name': 's'}, 'female'), ({'name': 'r'}, 'male'), ({'name': 'w'}, 'female'), ({'name': 'r'}, 'male'), ({'name': 'a'}, 'female'), ({'name': 'f'}, 'female'), ({'name': 'a'}, 'female'), ({'name': 't'}, 'male'), ({'name': 'e'}, 'male'), ({'name': 'a'}, 'female'), ({'name': 'e'}, 'male'), ({'name': 'r'}, 'male'), ({'name': 'a'}, 'female'), ({'name': 'a'}, 'female'), ({'name': 'a'}, 'female'), ({'name': 'a'}, 'female'), ({'name': 's'}, 'female'), ({'name': 'a'}, 'female'), ({'name': 'e'}, 'male'), ({'name': 'r'}, 'male'), ({'name': 'e'}, 'male')]\n",
      "0.9545454545454546\n"
     ]
    }
   ],
   "source": [
    "def elicit(name):\n",
    "    feat = {'name':name}\n",
    "    return feat\n",
    "\n",
    "featureSet =[\n",
    "    (elicit(name) , gender) for (name,gender) in data\n",
    "]\n",
    "\n",
    "print(featureSet)\n",
    "set1 = featureSet[0:26]\n",
    "set2 = featureSet[26:-1]\n",
    "\n",
    "bayes = nltk.NaiveBayesClassifier.train(set1)\n",
    "\n",
    "print( nltk.classify.accuracy ( bayes , set2))"
   ]
  },
  {
   "cell_type": "code",
   "execution_count": 58,
   "metadata": {},
   "outputs": [
    {
     "name": "stdout",
     "output_type": "stream",
     "text": [
      "female\n",
      "Most Informative Features\n",
      "                    name = 'a'            female : male   =      4.9 : 1.0\n",
      "                    name = 'w'              male : female =      3.7 : 1.0\n"
     ]
    }
   ],
   "source": [
    "print(bayes.classify({'name':'a'}))\n",
    "bayes.show_most_informative_features()"
   ]
  }
 ],
 "metadata": {
  "kernelspec": {
   "display_name": "Python 3",
   "language": "python",
   "name": "python3"
  },
  "language_info": {
   "codemirror_mode": {
    "name": "ipython",
    "version": 3
   },
   "file_extension": ".py",
   "mimetype": "text/x-python",
   "name": "python",
   "nbconvert_exporter": "python",
   "pygments_lexer": "ipython3",
   "version": "3.6.2"
  }
 },
 "nbformat": 4,
 "nbformat_minor": 2
}
