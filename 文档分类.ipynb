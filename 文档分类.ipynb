{
 "cells": [
  {
   "cell_type": "markdown",
   "metadata": {},
   "source": [
    "### Thanksyous\n",
    "    http://www.coderjie.com/blog/e21021eec69411e6841d00163e0c0e36"
   ]
  },
  {
   "cell_type": "code",
   "execution_count": 11,
   "metadata": {},
   "outputs": [
    {
     "name": "stdout",
     "output_type": "stream",
     "text": [
      "['plot', ':', 'two', 'teen', 'couples', 'go', 'church', 'party', ',', 'drink', 'then', 'drive', 'they', 'get', 'into', 'an', 'accident', 'one', 'guys', 'dies']\n"
     ]
    }
   ],
   "source": [
    "import nltk\n",
    "from nltk.corpus import movie_reviews as mv\n",
    "\n",
    "mvelicit = [w.lower() for w in mv.words()\n",
    "            if w.lower() not in [\"'\",\".\",\"and\",\"of\",'the','a','to','is','in','that','is','for','are']\n",
    "           ]\n",
    "print( mvelicit[:20])\n",
    "freWords = nltk.FreqDist( mvelicit )\n"
   ]
  },
  {
   "cell_type": "code",
   "execution_count": 22,
   "metadata": {},
   "outputs": [
    {
     "data": {
      "image/png": "[encoded data removed]",
      "text/plain": [
       "<matplotlib.figure.Figure at 0x13ba7794080>"
      ]
     },
     "metadata": {},
     "output_type": "display_data"
    }
   ],
   "source": [
    "freWords.plot(20 , cumulative = True)"
   ]
  },
  {
   "cell_type": "code",
   "execution_count": 23,
   "metadata": {
    "scrolled": true
   },
   "outputs": [
    {
     "name": "stdout",
     "output_type": "stream",
     "text": [
      "[(',', 77717), ('s', 18513), ('\"', 17612), ('it', 16107), ('-', 15595), (')', 11781), ('(', 11664), ('as', 11378), ('with', 10792), ('his', 9587), ('this', 9578), ('film', 9517), ('i', 8889), ('he', 8864), ('but', 8634), ('on', 7385), ('t', 6410), ('by', 6261), ('be', 6174), ('one', 5852), ('movie', 5771), ('an', 5744), ('who', 5692), ('not', 5577), ('you', 5316), ('from', 4999), ('at', 4986), ('was', 4940), ('have', 4901), ('they', 4825)]\n"
     ]
    }
   ],
   "source": [
    "print(freWords.most_common(30))"
   ]
  },
  {
   "cell_type": "code",
   "execution_count": 33,
   "metadata": {},
   "outputs": [
    {
     "data": {
      "text/plain": [
       "'NN'"
      ]
     },
     "execution_count": 33,
     "metadata": {},
     "output_type": "execute_result"
    }
   ],
   "source": [
    "nltk.pos_tag(['beautiful'])[0][1]"
   ]
  },
  {
   "cell_type": "code",
   "execution_count": 34,
   "metadata": {},
   "outputs": [
    {
     "name": "stdout",
     "output_type": "stream",
     "text": [
      "['character', 'director', 'something', 'audience', 'performance', 'anything', 'hollywood', 'everything', 'dialogue', 'everyone', 'sequence', 'relationship', 'daughter', 'violence', 'production', 'beautiful', 'screenplay', 'direction', 'question', 'computer', 'thriller', 'attention', 'material', 'experience', 'interest', 'television', 'girlfriend', 'wonderful', 'entertainment', 'surprise', 'suspense', 'straight', 'presence', 'business', 'intelligent', 'excellent', 'brilliant', 'situation', 'understand', 'favorite', 'government', 'soundtrack', 'animation']\n"
     ]
    }
   ],
   "source": [
    "goodWords = [ word\n",
    "             for (word,cnt) in freWords.most_common(1000)\n",
    "             if len(word)> 7 and nltk.pos_tag([word])[0][1]=='NN'\n",
    "            ]\n",
    "print(goodWords)"
   ]
  },
  {
   "cell_type": "code",
   "execution_count": null,
   "metadata": {
    "collapsed": true
   },
   "outputs": [],
   "source": [
    "def elicitFeat(featlist):\n",
    "    fts={}\n",
    "    for ft in featlist:\n",
    "        fts[ft]="
   ]
  }
 ],
 "metadata": {
  "kernelspec": {
   "display_name": "Python 3",
   "language": "python",
   "name": "python3"
  },
  "language_info": {
   "codemirror_mode": {
    "name": "ipython",
    "version": 3
   },
   "file_extension": ".py",
   "mimetype": "text/x-python",
   "name": "python",
   "nbconvert_exporter": "python",
   "pygments_lexer": "ipython3",
   "version": "3.6.2"
  }
 },
 "nbformat": 4,
 "nbformat_minor": 2
}
